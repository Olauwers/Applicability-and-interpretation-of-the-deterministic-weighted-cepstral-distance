{
 "cells": [
  {
   "cell_type": "markdown",
   "metadata": {},
   "source": [
    "# Applicability and interpretation of the deterministic weighted cepstral distance: Numerical Illustrations\n",
    "\n",
    "This notebook serves as a companion to the manuscript \"Applicability and interpretation of the deterministic weighted cepstral distance\", a copy of which can be found here [ADD LINK]. The results discussed and proven in the paper will be illustrated here via numerical examples. It is also possible - and encouraged - to try out other systems, inputs, ..., than the particular ones provided here.\n",
    "\n",
    "Note that the examples here are for model norms. The distance between two models with transfer functions *H<sub>1</sub>* and *H<sub>2</sub>* can be calculated as the norm of the model with transfer function *H<sub>1</sub>H<sub>2</sub><sup>-1</sup>*."
   ]
  },
  {
   "cell_type": "markdown",
   "metadata": {},
   "source": [
    "## Defining functions\n",
    "\n",
    "First, we define several functions and import necessary packages that will prove useful later on."
   ]
  },
  {
   "cell_type": "code",
   "execution_count": 1,
   "metadata": {
    "collapsed": true
   },
   "outputs": [],
   "source": [
    "%matplotlib inline\n",
    "\n",
    "import numpy as np\n",
    "import scipy as sp\n",
    "import scipy.signal as sps\n",
    "import matplotlib.pyplot as plt\n",
    "\n",
    "def hankel(ts,k):\n",
    "    # hankel expects a time series (ts), and a size (k), and returns a hankel matrix, built from the time series,\n",
    "    # of size (len(ts)-k+1,k).\n",
    "    n = int(np.floor(ts.shape[0]))\n",
    "    H = sp.linalg.hankel(ts[0:n-k+1],ts[n-k:])\n",
    "    # The transpose is a matter of convention, and is important for the formulas in subspace_angles, which we could\n",
    "    # rewrite to employ H in stead of the transpose of H.\n",
    "    return np.transpose(H)\n",
    "\n",
    "def subspace_angles(u,y):\n",
    "    # subspace_angles expects the time domain information (i.e. the raw signal) of input (u) and output (y),\n",
    "    # and returns an array with the cosines of the subspace angles associated with the model.\n",
    "    max_k = 2**10\n",
    "    k=int(np.floor(np.minimum(len(u),max_k)/4)) # Choose the size of the Hankel matrices\n",
    "    U = hankel(u[:np.minimum(N,max_k)],k)       # Initialize Hankel matrices\n",
    "    Y = hankel(y[:np.minimum(N,max_k)],k)\n",
    "\n",
    "    projectorU = np.dot(np.dot(np.transpose(U),np.linalg.pinv(np.dot(U,np.transpose(U)))),U)  # Build porjector matrices\n",
    "    dimU = projectorU.shape[0]\n",
    "    projectorY = np.dot(np.dot(np.transpose(Y),np.linalg.pinv(np.dot(Y,np.transpose(Y)))),Y)\n",
    "    dimY = projectorY.shape[0]\n",
    "    \n",
    "    Gamma = np.dot(Y,(np.identity(dimU)-projectorU))      # Estimate the range of the observability matrices.\n",
    "    Gamma = np.transpose(Gamma)\n",
    "    GammaInv = np.dot(U,(np.identity(dimY)-projectorY))\n",
    "    GammaInv = np.transpose(GammaInv)\n",
    "\n",
    "    # Find the square roots of the eigenvalues of equation (36) in the manuscript, by calculating the svd.\n",
    "    s = np.linalg.svd(np.dot(np.dot(np.dot(np.transpose(Gamma),np.linalg.pinv(np.dot(Gamma,np.transpose(Gamma)))),Gamma),np.dot(np.dot(np.transpose(GammaInv),np.linalg.pinv(np.dot(GammaInv,np.transpose(GammaInv)))),GammaInv)),compute_uv=0)\n",
    "    s_significant = [i for i in s if i >= 10**(-9)]\n",
    "    # Return all significant singular values (i.e. significantly larger than machine precision). The amount of\n",
    "    # significant values coincides with the order of the model. See \"[6] Katrien De Cock. Principal angles in\n",
    "    # system theory, information theory and signal processing. PhD thesis.\", for a discussion.\n",
    "    return s_significant\n",
    "\n",
    "def FORSE(frequ,freqy,wu):\n",
    "    # We implement the FORSE algorithm described in \"[12] Ketao Liu, Robert N Jacques, and David W. Miller.\n",
    "    # Frequency domain structural system identification by observability range space extraction. Journal of\n",
    "    # Dynamic Systems, 118:211, 1996.\". This algorithm is not very robust agains poles or zeros near the unit circle.\n",
    "    z = np.exp(1j*(wu))\n",
    "    q = int(np.floor(np.minimum(len(frequ)/2,2**8)))\n",
    "    exponents = np.arange(0,q)\n",
    "    U = np.matrix(np.multiply(np.array([z**x for x in exponents]),frequ))\n",
    "    Y = np.matrix(np.multiply(np.array([z**x for x in exponents]),freqy))\n",
    "\n",
    "    u,s,v = np.linalg.svd((np.dot(Y,Y.getH()).real).A - np.dot(np.dot(Y,(U.getH())).real,np.dot(np.linalg.pinv(np.dot(U,U.getH()).real),np.dot(Y,U.getH()).getT().real).real).A)\n",
    "    u_inv,s_inv,v_inv = np.linalg.svd((np.dot(U,U.getH()).real).A - np.dot(np.dot(U,(Y.getH())).real,np.dot(np.linalg.pinv(np.dot(Y,Y.getH()).real),(np.dot(U,Y.getH()).getT().real)).real).A)\n",
    "    \n",
    "    \n",
    "    order = np.minimum(len([i for i in s if i >= s[0]*(10**(-5))]),len([i for i in s_inv if i >= s_inv[0]*(10**(-5))]))\n",
    "    \n",
    "    Gamma = np.transpose(u[:,:order])\n",
    "    GammaInv = np.transpose(u_inv[:,:order])\n",
    "    cosangles = np.linalg.svd(np.dot(np.dot(np.dot(np.transpose(Gamma),np.linalg.pinv(np.dot(Gamma,np.transpose(Gamma)))),Gamma),np.dot(np.dot(np.transpose(GammaInv),np.linalg.pinv(np.dot(GammaInv,np.transpose(GammaInv)))),GammaInv)),compute_uv=0)\n",
    "\n",
    "    cosangles_significant = [i for i in cosangles if i >= 10**(-9)]\n",
    "    \n",
    "    return cosangles_significant\n",
    "\n",
    "def complex_cepstrum(specu,specy):\n",
    "    # complex_cepstrum expects the spectra of the input (specu) and output (specy) data.\n",
    "    # It calculates the complex cepstral coefficients of the underlying model,\n",
    "    # and returns the positive and negative part seperately.\n",
    "    # The subtraction of output cepstrum and input cepstrum is moved through the ifft and the logarithm,\n",
    "    # changing into a division in frequency domain, to improve numerical stability.\n",
    "    # This does not change the theoretical results.\n",
    "    \n",
    "    spec = specy/specu                                  # Divide the spectrum of the output with that of the input\n",
    "                                                        # to extract the information about the underlying system.\n",
    "        \n",
    "    angles= np.unwrap(np.angle(spec))       # Calculate the complex logarithm.\n",
    "    hat = np.log(np.abs(spec)) + 1j*(angles)\n",
    "    \n",
    "    ceps = np.fft.ifft(hat).real                        # Calculate the complex cepstrum.\n",
    "    \n",
    "    # The positive coefficients of the complex cepstrum, denoted posceps, are associated with the minimum-phase\n",
    "    # part of the signal, the negative coefficients are associated with the maximum-phase part, as discussed in\n",
    "    # the manuscript, section \"6 Assesing phase-type of systems\". Both are returned seperately.\n",
    "    \n",
    "    posceps = ceps[0:int(np.floor(ceps.shape[0]/2))]\n",
    "    negceps = ceps[::-1]\n",
    "    negceps = np.append(ceps[0],negceps[0:int(np.floor(ceps.shape[0]/2 - 1))])\n",
    "\n",
    "    return posceps, negceps\n",
    "\n",
    "def power_cepstrum(u,y):\n",
    "    # power_cepstrum expects the time domain information of input (u) and output (y), as it will calculate the\n",
    "    # power spectral density (psd) using Welch's method, which provides a better estimate of the psd\n",
    "    # than the naive fft-implementation. power_cepstrum then returns the power cepstrum of the underlying model.\n",
    "    # The subtracton of output and input power cepstrum is again changed into a division in the frequency \n",
    "    # domain (see complex_cepstrum).\n",
    "    windowsize = np.minimum(N,np.maximum(256,int(np.floor(N/4))))     # Define a window size for Welch's method.\n",
    "    f, Puu = sps.welch(u,fs,nperseg=windowsize,return_onesided=True)  # Estimate the psd's of u and y.\n",
    "    f, Pyy = sps.welch(y,fs,nperseg=windowsize,return_onesided=True)\n",
    "    powerceps = np.fft.irfft(np.log(Pyy/Puu))                         # Estimate the power cepstrum.\n",
    "    \n",
    "    return powerceps\n",
    "\n",
    "def poles_zeros_norm(poles,zeros):\n",
    "    # model_norm expects the poles and zeros of the system, and returns the distance calculated in terms of poles\n",
    "    # and zeros, as in e.g. Equations (35) and (45). This norm only makes sense when poles and zeros are either \n",
    "    # both minimum-phase or both maximum-phase.\n",
    "    \n",
    "    # If the system is maximum-phase (i.e. poles larger than 1), reverse poles and zeros.\n",
    "\n",
    "    if poles[0] >= 1:\n",
    "        zeros_minimum = [1 / x for x in zeros]\n",
    "        poles_minimum = [1 / x for x in poles]\n",
    "    else:\n",
    "        zeros_minimum = zeros\n",
    "        poles_minimum = poles\n",
    "    \n",
    "    distpoleszeros = np.sum(np.log((1-np.outer(poles_minimum,np.conj(zeros_minimum)))**2))-np.sum(np.log(1-np.outer(poles_minimum,np.conj(poles_minimum))))-np.sum(np.log(1-np.outer(zeros_minimum,np.conj(zeros_minimum))))\n",
    "    return distpoleszeros\n",
    "    "
   ]
  },
  {
   "cell_type": "markdown",
   "metadata": {},
   "source": [
    "## Starting from time domain data (i.e. signals)\n",
    "\n",
    "### Assessing phase-type of a signal\n",
    "\n",
    "As it is important to know whether or system is (stable) minimum-phase, (unstable) maximum-phase or mixed-phase to be able to make sense of the proposed norm, we will now use the technique proposed in section *6 Assessing phase-type of systems* to find out what kind of signal we are dealing with. The unstable case will result in unbounded output signals, which will result in computational trouble. We will deal with the unstable case later on, through spectral information. For now, we focus on discerning between minimum-phase and mixed-phase signals (unstable, unbounded signals - the ones which result into numerical issues - are pretty easy to recognize anyway).\n",
    "\n",
    "We first initialize a stable system and generate input-output information:"
   ]
  },
  {
   "cell_type": "code",
   "execution_count": 2,
   "metadata": {
    "collapsed": true
   },
   "outputs": [],
   "source": [
    "np.random.seed(seed=0)   # Initialize the random number generator to get consistent results. Turn this off\n",
    "                         # if you want to experiment with other sequences of random numbers.\n",
    "\n",
    "N=2**14         # N is the length of the time series. The longer it is, the more reliable the estimates of the spectra will be.\n",
    "order = 6       # order is the order of the system of which we want to calculate the norm.\n",
    "fs=10**6        # fs is the sampling frequency of the system.\n",
    "\n",
    "\n",
    "# Define poles and zeros. Commented out are several approaches for defining them, other than throwing random numbers.\n",
    "# It is important that these arrays are of the same length. If there is a mismatch between the amount of poles and zeros,\n",
    "# zeros or poles in 0 can be added as appropriate (for the minimum-phase part, for the maximum-phase part, add zeros\n",
    "# and poles in infinity).\n",
    "\n",
    "    # The next three lines contain a random, stable, minimum-phase system.\n",
    "# poles = np.random.rand(order)   # poles contains the poles of the system.\n",
    "# zeros = np.random.rand(order)   # zeros contains the zeros of the system.\n",
    "# k = 1                           # k is the gain of the system.\n",
    "\n",
    "    # The next three lines contain a random, stable, mixed-phase system.\n",
    "#poles = np.random.rand(order)\n",
    "#amount_of_minimum_phase_zeros = np.random.randint(1,order)\n",
    "#zeros = [*np.random.rand(amount_of_minimum_phase_zeros), *(1/np.random.rand(order-amount_of_minimum_phase_zeros))]\n",
    "#k = 1\n",
    "\n",
    "    # The next three lines contain an example of a stable, minimum-phase system.\n",
    "zeros = [0.8, 0.6, 0]\n",
    "poles = [0.9, 0.7, 0.4]\n",
    "k = 1\n",
    "\n",
    "    # The next three lines contain an example of a stable, mixed-phase system.\n",
    "#zeros = [1/0.8, 0.6, 0]\n",
    "#poles = [0.9, 0.7, 0.4]\n",
    "#k = 1\n",
    "\n",
    "sys = sps.ZerosPolesGain(zeros, poles, k, dt=1/fs)   # Initialize the system\n",
    "\n",
    "# Generate input data. The current set-up is to put a white noise signal through a fifth-order system to color it.\n",
    "# Different ways of generating input data can be experimented with here.\n",
    "\n",
    "u = np.random.randn(N)\n",
    "tu,u = sps.dlsim(sps.ZerosPolesGain(np.random.rand(3), np.random.rand(3), 1,dt=1/fs),u)\n",
    "u = u[:,0]\n",
    "\n",
    "# Generate output data by doing a simulation of the system created above, and driving it with the input created above.\n",
    "ty,y = sps.dlsim(sys,u)\n",
    "y = y[:,0]\n",
    " "
   ]
  },
  {
   "cell_type": "markdown",
   "metadata": {},
   "source": [
    "Next, we calculate the complex cepstrum of the system, and plot the first few coefficients of the <font color='blue'>positive part in blue</font>, and the first few coefficients of the <font color='green'>negative part in green</font>.\n",
    "\n",
    "* The zeroth coefficient says something about initial state and gain of the system, and is irrelevant for our purposes. We will therefore not show it in the plots below. \n",
    "* The other positive coefficients <font color='blue'>(the blue line in the plot below)</font> should be zero in the (unstable) maximum-phase case, and non-zero in the (stable) minimum-phase case. In the mixed-phase case, they contain the (stable) minimum-phase part of the system.\n",
    "* The other negative coefficients <font color='green'>(the green line in the plot below)</font> should be zero in the (stable) minimum-phase case, and non-zero in the (unstable) maximum-phase case. In the mixed-phase case, they contain the (unstable) maximum-phase part of the system.\n",
    "\n",
    "Problems can arise, when the poles and zeros with which the input is generated are too close to those of the underlying system. The complex cepstrum is also not defined for poles and zeros on the unit circle."
   ]
  },
  {
   "cell_type": "code",
   "execution_count": 3,
   "metadata": {},
   "outputs": [
    {
     "data": {
      "text/plain": [
       "<matplotlib.text.Text at 0x27ad9e9a3c8>"
      ]
     },
     "execution_count": 3,
     "metadata": {},
     "output_type": "execute_result"
    },
    {
     "data": {
      "image/png": "[encoded data removed]",
      "text/plain": [
       "<matplotlib.figure.Figure at 0x27ad706d908>"
      ]
     },
     "metadata": {},
     "output_type": "display_data"
    }
   ],
   "source": [
    "posceps, negceps = complex_cepstrum(np.fft.fft(u),np.fft.fft(y))\n",
    "\n",
    "fig, ax = plt.subplots()\n",
    "ax.set_xlabel('Coefficient number')\n",
    "ax.set_ylabel('Coefficient value')\n",
    "ax.plot(np.arange(1,20),posceps[1:20],'b', label='Positive cepstrum')\n",
    "ax.plot(np.arange(1,20),negceps[1:20],'g', label='Negative cepstrum')\n",
    "ax.legend()\n",
    "plt.title('Positive and negative complex cepstrum')"
   ]
  },
  {
   "cell_type": "markdown",
   "metadata": {},
   "source": [
    "The code below saves the data from the figure above to be imported into LaTeX. Uncomment if you want this file."
   ]
  },
  {
   "cell_type": "code",
   "execution_count": 4,
   "metadata": {
    "collapsed": true
   },
   "outputs": [],
   "source": [
    "#import csv\n",
    "#with open('minimumcepstrum.csv', 'w', newline='') as f:\n",
    "#    writer = csv.writer(f)\n",
    "#    writer.writerows(np.column_stack((np.arange(-20,21),np.concatenate((negceps[20:0:-1],posceps[0:21])))))"
   ]
  },
  {
   "cell_type": "markdown",
   "metadata": {},
   "source": [
    "We can now easily assess whether the signals we are looking at come from a minimum or mixed phase stable system: If the <font color='green'>green line</font> is zero, the system is minimum-phase. If it is not, the system is mixed-phase. The maximum-phase case results in numerical issues in calculating the fft's (as the signals are unbounded). We will illustrate the results from the manuscript, however, by starting from frequency domain data.\n",
    "\n",
    "In what follows, we will show the equivalences between the norm calculated from cepstral coefficients and the norm calculated from subspace angles, in the minimum-phase. We will thus illustrate *Equation (36)*."
   ]
  },
  {
   "cell_type": "markdown",
   "metadata": {},
   "source": [
    "### Stable, minimum-phase systems\n",
    "\n",
    "We implement the necessary steps to verify *Equation (36)* with an example of a stable, minimum-phase system that fulfills the assumptions made in the paper.\n",
    "\n",
    "Again, we first initialize the system and generate input-output data. This is  a copy of the code in the previous section, with the non-minimum phase examples removed."
   ]
  },
  {
   "cell_type": "code",
   "execution_count": 5,
   "metadata": {
    "collapsed": true
   },
   "outputs": [],
   "source": [
    "np.random.seed(seed=0)   # Initialize the random number generator to get consistent results. Turn this off\n",
    "                         # if you want to experiment with other sequences of random numbers.\n",
    "\n",
    "N=2**14        # N is the length of the time series. The longer it is, the more reliable the estimates of the spectra will be.\n",
    "order = 6       # order is the order of the system of which we want to calculate the norm.\n",
    "fs=10**6        # fs is the sampling frequency of the system.\n",
    "\n",
    "\n",
    "# Define poles and zeros. Commented out are several approaches for defining them, other than throwing random numbers.\n",
    "# It is important that these arrays are of the same length. If there is a mismatch between the amount of poles and zeros,\n",
    "# zeros or poles in 0 can be added as appropriate (for the minimum-phase part, for the maximum-phase part, add zeros\n",
    "# and poles in infinity).\n",
    "\n",
    "    # The next three lines contain a random, stable, minimum-phase system.\n",
    "#poles = np.random.rand(order)   # poles contains the poles of the system.\n",
    "#zeros = np.random.rand(order)   # zeros contains the zeros of the system.\n",
    "#k = 1                           # k is the gain of the system.\n",
    "\n",
    "    # The next three lines contain an example of a stable, minimum-phase system.\n",
    "zeros = [0.8, 0.6, 0]\n",
    "poles = [0.9, 0.7, 0.4]\n",
    "k = 1\n",
    "\n",
    "sys = sps.ZerosPolesGain(zeros, poles, k, dt=1/fs)   # Initialize the system\n",
    "\n",
    "# Generate input data. The current set-up is to put a white noise signal through a fifth-order system to color it.\n",
    "# Different ways of generating input data can be experimented with here.\n",
    "\n",
    "u = np.random.randn(N)\n",
    "tu,u = sps.dlsim(sps.ZerosPolesGain(np.random.rand(3), np.random.rand(3), 1,dt=1/fs),u)\n",
    "u = u[:,0]\n",
    "\n",
    "# Generate output data by doing a simulation of the system created above, and driving it with the input created above.\n",
    "ty,y = sps.dlsim(sys,u)\n",
    "y = y[:,0]"
   ]
  },
  {
   "cell_type": "markdown",
   "metadata": {},
   "source": [
    "We can estimate the power cepstrum of and the subspace angles related to the underlying system with the functions *power_cepstrum* and *subspace_angles*, implemented above. They calculate respectively the *c<sub>h</sub>(k)*, as explained in *Appendix A.2 Computing the power cepstrum*, and the cosines of the angles as explained in *Appendix B.2 Computing the range of the observability matrix* and *Equations (20)* and *(21)*. We now calculate both sides of *Equation (36)*, and show they are the same."
   ]
  },
  {
   "cell_type": "code",
   "execution_count": 6,
   "metadata": {},
   "outputs": [
    {
     "name": "stdout",
     "output_type": "stream",
     "text": [
      "The subspace angles norm of the underlying system equals 0.671704279419 .\n",
      "The weighted cepstral norm of the underlying system equals 0.671818570022 .\n",
      "The true norm, calculated from poles and zeros equals 0.671704279418 .\n",
      "\n",
      "The difference between the weighted cepstral norm and the subspace angles norm is 0.000114290603161 .\n",
      "\n",
      "The difference between the true norm and the weighted cepstral norm is 0.000114290603364 .\n",
      "The difference between the true norm and the subspace angle norm is 2.02726724297e-13 .\n"
     ]
    }
   ],
   "source": [
    "powerceps = power_cepstrum(u,y)  # Estimate the power cepstral coefficients of the underlying system.\n",
    "\n",
    "powercepslength = int(np.floor(powerceps.shape[0]/2))   # This is the length of one side of the power cepstrum.                \n",
    "weights = np.arange(0,powercepslength)  # Initialize the weights\n",
    "powercepstraldistance = np.dot(weights,np.square(powerceps[:powercepslength]))  # Calculate the right-hand side of Equation (36).\n",
    "\n",
    "cosangles = subspace_angles(u,y)  # Estimate the cosines of the angles of the underlying system.\n",
    "anglesdistance = -2*np.log(np.prod(cosangles))  # Calculate the left-hand side of Equation (26).\n",
    "\n",
    "poleszerosdistance = poles_zeros_norm(poles,zeros)\n",
    "\n",
    "print(\"The subspace angles norm of the underlying system equals\",anglesdistance,\".\")\n",
    "print(\"The weighted cepstral norm of the underlying system equals\",powercepstraldistance,\".\")\n",
    "print(\"The true norm, calculated from poles and zeros equals\", poleszerosdistance,\".\")\n",
    "print()\n",
    "print(\"The difference between the weighted cepstral norm and the subspace angles norm is\",np.absolute(powercepstraldistance - anglesdistance),\".\")\n",
    "print()\n",
    "print(\"The difference between the true norm and the weighted cepstral norm is\",np.absolute(powercepstraldistance - poleszerosdistance),\".\")\n",
    "print(\"The difference between the true norm and the subspace angle norm is\",np.absolute(anglesdistance - poleszerosdistance),\".\")\n"
   ]
  },
  {
   "cell_type": "markdown",
   "metadata": {},
   "source": [
    "Note that they are not exactly equal, as they would only be exactly equal in the case of infintely good estimations of both cepstral coefficients and subspace angles. However, the difference between them is several orders smaller than the absolute value of the norms, which is good enough to use in practice, and illustrates the equivalence shown in the paper.\n",
    "\n",
    "By changing the value of the signal length, *N*, above, you should see that, the longer the time series, the smaller the difference between the two usually is, as for longer time series, the estimate of the cepstral coefficients is better. Note that *subspace_angles* only takes into account the first 2<sup>10</sup> time steps, to keep the computational burden small. Even better results could be obtained by using the full time series to estimate subspace angles."
   ]
  },
  {
   "cell_type": "markdown",
   "metadata": {},
   "source": [
    "## Starting from frequency domain data (i.e. spectra)\n",
    "\n",
    "### Assessing phase-type of a signal\n",
    "\n",
    "In the case of unstable systems, the input and output signals are unbounded. Fortunately, we can redo the analysis above, starting from frequency domain data, and illustrate the unstable maximum-phase case in that way.\n",
    "\n",
    "We first initialize any system and generate input-output spectra:"
   ]
  },
  {
   "cell_type": "code",
   "execution_count": 7,
   "metadata": {
    "collapsed": true
   },
   "outputs": [],
   "source": [
    "np.random.seed(seed=0)   # Initialize the random number generator to get consistent results. Turn this off\n",
    "                         # if you want to experiment with other sequences of random numbers.\n",
    "\n",
    "N=2**14     # N is the length of the time series. The longer it is, the more reliable the estimates of the spectra will be.\n",
    "            # In this case, this is only used to estimate an input u. We start from the time domain, to allow users to employ\n",
    "            # the same signals as in the previous code blocks. \n",
    "order = 6   # order is the order of the system of which we want to calculate the norm.\n",
    "fs=10**6    # fs is the sampling frequency of the system.\n",
    "\n",
    "\n",
    "# Define poles and zeros. Commented out are several approaches for defining them, other than throwing random numbers.\n",
    "# It is important that these arrays are of the same length. If there is a mismatch between the amount of poles and zeros,\n",
    "# zeros or poles in 0 can be added as appropriate (for the minimum-phase part, for the maximum-phase part, add zeros\n",
    "# and poles in infinity).\n",
    "\n",
    "    # The next three lines contain a random, stable, minimum-phase system.\n",
    "#poles = 0.9*np.random.rand(order)   # poles contains the poles of the system.\n",
    "#zeros = 0.9*np.random.rand(order)   # zeros contains the zeros of the system.\n",
    "#k = 1                           # k is the gain of the system.\n",
    "\n",
    "    # The next three lines contain a random mixed-phase system.\n",
    "    # Invert this (see below) to get a maximum-phase system.\n",
    "#amount_of_minimum_phase_poles = np.random.randint(1,order)\n",
    "#poles = [*np.random.rand(amount_of_minimum_phase_poles), *(1/np.random.rand(order-amount_of_minimum_phase_poles))]\n",
    "#amount_of_minimum_phase_zeros = np.random.randint(1,order)\n",
    "#zeros = [*np.random.rand(amount_of_minimum_phase_zeros), *(1/np.random.rand(order-amount_of_minimum_phase_zeros))]\n",
    "#k = 1\n",
    "\n",
    "    # The next three lines contain a random, stable, minimum-phase system. The poles and zeros can be inverted \n",
    "    # later on (see below) to generate a random, unstable, maximum-phase systems.\n",
    "zeros = [0.8, 0.6, 10**(-15)]   # If you put in a zero here, you will not be able to invert the phase-type of the\n",
    "                                # system by inverting the poles and zeros, as that would result in dividing by zero.\n",
    "                                # We solve this by taking a very small number instead.\n",
    "poles = [0.9, 0.7, 0.4]\n",
    "k = 1\n",
    "\n",
    "    # The next three lines contain an example of a mixed-phase system.\n",
    "#zeros = [1/0.8, 0.6, 10**(-15)]\n",
    "#poles = [0.9, 0.7, 1/0.4]\n",
    "#k = 1\n",
    "\n",
    "    # The next two lines invert the phase-type of the system. You can use this to see that the positive and negative\n",
    "    # part of the complex cepstrum are indeed representing the minimum and maximum phase part of the signals.\n",
    "zeros = [1 / x for x in zeros]\n",
    "poles = [1 / x for x in poles]\n",
    "\n",
    "sys = sps.ZerosPolesGain(zeros, poles, k, dt=1/fs)   # Initialize the system\n",
    "\n",
    "# Generate input data. The current set-up is to put a white noise signal through a fifth-order system to color it,\n",
    "# and then calculate the spectrum of this signal. Of course, you can just as well start from a specific input spectrum.\n",
    "# Different ways of generating input data can be experimented with here.\n",
    "u = np.random.randn(N)\n",
    "tin,u = sps.dlsim(sps.ZerosPolesGain(np.random.rand(5), np.random.rand(5), 1,dt=1/fs),u)\n",
    "u = u[:,0]\n",
    "frequ = np.fft.fft(u)\n",
    "wu = np.fft.fftfreq(N,d=1/fs)                       # Find the frequencies at which the fft samples the spectrum,\n",
    "                                                    # so we can sample the system at the same frequencies.\n",
    "                                                    # Note that if you start directly from an input spectrum,\n",
    "                                                    # you should provide the frequencies at which this spectrum\n",
    "                                                    # was sampled to wu.\n",
    "                \n",
    "wsys, freqsys = sps.dfreqresp(sys,wu*2*np.pi/fs)    # Sample the system in the frequency domain.\n",
    "freqy = freqsys*frequ                               # Calculate the output spectrum."
   ]
  },
  {
   "cell_type": "markdown",
   "metadata": {},
   "source": [
    "Next, we calculate the complex cepstrum of the system, and plot the first few coefficients of the <font color='blue'>positive part in blue</font>, and the first few coefficients of the <font color='green'>negative part in green</font>.\n",
    "\n",
    "* The zeroth coefficient says something about initial state and gain of the system, and is irrelevant for our purposes. We will therefore not show it in the plots below. \n",
    "* The other positive coefficients <font color='blue'>(the blue line in the plot below)</font> should be zero in the (unstable) maximum-phase case, and non-zero in the (stable) minimum-phase case. In the mixed-phase case, they contain the (stable) minimum-phase part of the system.\n",
    "* The other negative coefficients <font color='green'>(the green line in the plot below)</font> should be zero in the (stable) minimum-phase case, and non-zero in the (unstable) maximum-phase case. In the mixed-phase case, they contain the (unstable) maximum-phase part of the system."
   ]
  },
  {
   "cell_type": "code",
   "execution_count": 8,
   "metadata": {},
   "outputs": [
    {
     "data": {
      "text/plain": [
       "<matplotlib.text.Text at 0x27ad9fa95f8>"
      ]
     },
     "execution_count": 8,
     "metadata": {},
     "output_type": "execute_result"
    },
    {
     "data": {
      "image/png": "[encoded data removed]",
      "text/plain": [
       "<matplotlib.figure.Figure at 0x27ad706d978>"
      ]
     },
     "metadata": {},
     "output_type": "display_data"
    }
   ],
   "source": [
    "posceps, negceps = complex_cepstrum(frequ,freqy)\n",
    "\n",
    "fig, ax = plt.subplots()\n",
    "ax.set_xlabel('Coefficient number')\n",
    "ax.set_ylabel('Coefficient value')\n",
    "ax.plot(np.arange(1,20),posceps[1:20],'b', label='Positive cepstrum')\n",
    "ax.plot(np.arange(1,20),negceps[1:20],'g', label='Negative cepstrum')\n",
    "ax.legend()\n",
    "plt.title('Positive and negative complex cepstrum')"
   ]
  },
  {
   "cell_type": "markdown",
   "metadata": {},
   "source": [
    "The code below saves the data from the figure above to be imported into LaTeX. Uncomment if you want this file."
   ]
  },
  {
   "cell_type": "code",
   "execution_count": 9,
   "metadata": {
    "collapsed": true
   },
   "outputs": [],
   "source": [
    "#import csv\n",
    "#with open('maximumcepstrum.csv', 'w', newline='') as f:\n",
    "#    writer = csv.writer(f)\n",
    "#    writer.writerows(np.column_stack((np.arange(-20,21),np.concatenate((negceps[20:0:-1],posceps[0:21])))))"
   ]
  },
  {
   "cell_type": "markdown",
   "metadata": {},
   "source": [
    "We can now easily assess whether the signals we are looking at come from a minimum or mixed phase stable system: If the <font color='green'>green line</font> is zero, the system is minimum-phase. If the <font color='blue'>blue line</font> is zero, the system is maximum-phase. Otherwise, it is mixed-phase.\n",
    "\n",
    "In what follows, we will show the equivalences between the norm calculated from cepstral coefficients and the norm calculated from subspace angles. We will thus illustrate *Equation (36)* and *(45)*."
   ]
  },
  {
   "cell_type": "markdown",
   "metadata": {},
   "source": [
    "### Unstable, maximum-phase systems\n",
    "\n",
    "We implement the necessary steps to verify *Equation (45)* with any example of an unstable, maximum-phase system that fulfills the assumptions made in the paper.\n",
    "\n",
    "Again, we first initialize the system and generate input-output spectral data. This is  a copy of the code in the previous section, with the non-maximum phase examples removed.\n",
    "\n",
    "The *FORSE* method we use to estimate the subspace angles appears to be very sensitive to poles and zeros near the unit circle. We therefore multiply all random numbers thrown to generate poles and zeros by 0.9."
   ]
  },
  {
   "cell_type": "code",
   "execution_count": 10,
   "metadata": {
    "collapsed": true
   },
   "outputs": [],
   "source": [
    "np.random.seed(seed=0)   # Initialize the random number generator to get consistent results. Turn this off\n",
    "                         # if you want to experiment with other sequences of random numbers.\n",
    "\n",
    "N=2**14     # N is the length of the time series. The longer it is, the more reliable the estimates of the spectra will be.\n",
    "            # In this case, this is only used to estimate an input u. We start from the time domain, to allow users to employ\n",
    "            # the same signals as in the previous code blocks. \n",
    "order = 6   # order is the order of the system of which we want to calculate the norm.\n",
    "fs=10**4    # fs is the sampling frequency of the system.\n",
    "\n",
    "\n",
    "# Define poles and zeros. Commented out are several approaches for defining them, other than throwing random numbers.\n",
    "# It is important that these arrays are of the same length. If there is a mismatch between the amount of poles and zeros,\n",
    "# zeros or poles in 0 can be added as appropriate (for the minimum-phase part, for the maximum-phase part, add zeros\n",
    "# and poles in infinity).\n",
    "\n",
    "    # The next three lines contain a random, stable, minimum-phase system. The poles and zeros can be inverted \n",
    "    # later on (see below) to generate a random, unstable, maximum-phase systems.\n",
    "poles = 0.9*np.random.rand(order)   # poles contains the poles of the system.\n",
    "zeros = 0.9*np.random.rand(order)   # zeros contains the zeros of the system.\n",
    "k = 1                           # k is the gain of the system.\n",
    "\n",
    "    # The next three lines contain an example of a stable, minimum-phase system.\n",
    "#zeros = [0.8, 0.6, 10**(-15)]   # If you put in a zero here, you will not be able to invert the phase-type of the\n",
    "                                # system by inverting the poles and zeros, as that would result in dividing by zero.\n",
    "                                # We solve this by taking a very small number instead.\n",
    "#poles = [0.9, 0.7, 0.4]\n",
    "#k = 1\n",
    "\n",
    "    # The next two lines invert the phase-type of the system.\n",
    "zeros = [1 / x for x in zeros]\n",
    "poles = [1 / x for x in poles]\n",
    "\n",
    "sys = sps.ZerosPolesGain(zeros, poles, k, dt=1/fs)   # Initialize the system\n",
    "\n",
    "# Generate input data. The current set-up is to put a white noise signal through a fifth-order system to color it,\n",
    "# and then calculate the spectrum of this signal. Of course, you can just as well start from a specific input spectrum.\n",
    "# Different ways of generating input data can be experimented with here.\n",
    "u = np.random.randn(N)\n",
    "tin,u = sps.dlsim(sps.ZerosPolesGain(0.9*np.random.rand(5), 0.9*np.random.rand(5), 1,dt=1/fs),u)\n",
    "u = u[:,0]\n",
    "frequ = np.fft.fft(u)\n",
    "wu = np.fft.fftfreq(N,d=1/fs)                       # Find the frequencies at which the fft samples the spectrum,\n",
    "                                                    # so we can sample the system at the same frequencies.\n",
    "                                                    # Note that if you start directly from an input spectrum,\n",
    "                                                    # you should provide the frequencies at which this spectrum\n",
    "                                                    # was sampled to wu.\n",
    "                \n",
    "wsys, freqsys = sps.dfreqresp(sys,wu*2*np.pi/fs)    # Sample the system in the frequency domain.\n",
    "freqy = freqsys*frequ                               # Calculate the output spectrum."
   ]
  },
  {
   "cell_type": "markdown",
   "metadata": {},
   "source": [
    "We can estimate the power cepstrum of the underlying system directly from the spectral data and the subspace angles with the function *FORSE*, implemented above. This gives us respectively the *c<sub>h</sub>(k)*, as explained in *Appendix A.2 Computing the power cepstrum*, and the cosines of the angles as explained in *Appendix B.2 Computing the range of the observability matrix* and *Equations (20)* and *(21)*. We now calculate both sides of *Equation (45)*, and show they are the same."
   ]
  },
  {
   "cell_type": "code",
   "execution_count": 11,
   "metadata": {},
   "outputs": [
    {
     "name": "stdout",
     "output_type": "stream",
     "text": [
      "The subspace angles norm of the underlying system equals 1.20686878795 .\n",
      "The weighted cepstral norm of the underlying system equals 1.2060008794 .\n",
      "The true norm, calculated from poles and zeros equals 1.2060008794 .\n",
      "\n",
      "The difference between the weighted cepstral norm and the subspace angles norm is 0.00086790854291 .\n",
      "\n",
      "The difference between the true norm and the weighted cepstral norm is 2.22044604925e-15 .\n",
      "The difference between the true norm and the subspace angle norm is 0.000867908542908 .\n"
     ]
    }
   ],
   "source": [
    "psd=np.absolute(freqy/frequ)                  # Estimate the power cepstral coefficients of the underlying system.\n",
    "powerceps = np.fft.ifft(2*np.log(psd)).real  \n",
    "\n",
    "powercepslength = int(np.floor(powerceps.shape[0]/2))   # This is the length of one side of the power cepstrum.        \n",
    "weights = np.arange(0,powercepslength)  # Initialize the weights\n",
    "powercepstraldistance = np.dot(weights,np.square(powerceps[:powercepslength]))  # Calculate the left-hand side of Equation (45).\n",
    "\n",
    "order = len(poles)\n",
    "cosangles = FORSE(frequ,freqy,wu*2*np.pi/fs)    # Calculate the cosines of the subspace angles.\n",
    "anglesdistance = -2*np.log(np.prod(cosangles))  # Calculate the right-hand side of Equation (31).\n",
    "\n",
    "poleszerosdistance = poles_zeros_norm(poles,zeros)\n",
    "\n",
    "print(\"The subspace angles norm of the underlying system equals\",anglesdistance,\".\")\n",
    "print(\"The weighted cepstral norm of the underlying system equals\",powercepstraldistance,\".\")\n",
    "print(\"The true norm, calculated from poles and zeros equals\", poleszerosdistance,\".\")\n",
    "print()\n",
    "print(\"The difference between the weighted cepstral norm and the subspace angles norm is\",np.absolute(powercepstraldistance - anglesdistance),\".\")\n",
    "print()\n",
    "print(\"The difference between the true norm and the weighted cepstral norm is\",np.absolute(powercepstraldistance - poleszerosdistance),\".\")\n",
    "print(\"The difference between the true norm and the subspace angle norm is\",np.absolute(anglesdistance - poleszerosdistance),\".\")\n"
   ]
  },
  {
   "cell_type": "markdown",
   "metadata": {},
   "source": [
    "The *FORSE* algorithm does not appear to be very robust to poles or zeros near the unit circle. However, experimenting a few times, we can see that both sides of the equation are in good agreement."
   ]
  }
 ],
 "metadata": {
  "kernelspec": {
   "display_name": "Python 3",
   "language": "python",
   "name": "python3"
  },
  "language_info": {
   "codemirror_mode": {
    "name": "ipython",
    "version": 3
   },
   "file_extension": ".py",
   "mimetype": "text/x-python",
   "name": "python",
   "nbconvert_exporter": "python",
   "pygments_lexer": "ipython3",
   "version": "3.6.1"
  }
 },
 "nbformat": 4,
 "nbformat_minor": 2
}
